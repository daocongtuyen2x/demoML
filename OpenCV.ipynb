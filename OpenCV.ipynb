{
 "cells": [
  {
   "cell_type": "code",
   "execution_count": 1,
   "metadata": {},
   "outputs": [],
   "source": [
    "import numpy as np\n",
    "import cv2\n",
    "\n",
    "# Load an image\n",
    "img1 = cv2.imread('landmark81.jpg')\n",
    "\n",
    "# process\n",
    "img2 = img1 + 50\n",
    "img3 = np.clip(img2, 0, 255)\n",
    "\n",
    "cv2.imshow('name1', img1)\n",
    "cv2.imshow('name2', img3)\n",
    "\n",
    "cv2.waitKey(0)\n",
    "cv2.destroyAllWindows()"
   ]
  },
  {
   "cell_type": "code",
   "execution_count": 28,
   "metadata": {},
   "outputs": [
    {
     "name": "stdout",
     "output_type": "stream",
     "text": [
      "[3 4 5 9 8]\n",
      "[3 4 5 6 6]\n"
     ]
    }
   ],
   "source": [
    "import numpy as np\n",
    "\n",
    "arr  = np.array([3, 4, 5, 9, 8])\n",
    "arr2 = np.clip(arr, 3, 6)\n",
    "\n",
    "print(arr)\n",
    "print(arr2)"
   ]
  },
  {
   "cell_type": "code",
   "execution_count": null,
   "metadata": {},
   "outputs": [],
   "source": []
  },
  {
   "cell_type": "code",
   "execution_count": 22,
   "metadata": {},
   "outputs": [
    {
     "data": {
      "text/plain": [
       "True"
      ]
     },
     "execution_count": 22,
     "metadata": {},
     "output_type": "execute_result"
    }
   ],
   "source": [
    "import numpy as np\n",
    "import cv2\n",
    "\n",
    "# Load an image\n",
    "img = cv2.imread('landmark81.jpg')\n",
    "\n",
    "cv2.imwrite('landmark81_2.png',img)"
   ]
  },
  {
   "cell_type": "code",
   "execution_count": null,
   "metadata": {},
   "outputs": [],
   "source": []
  },
  {
   "cell_type": "code",
   "execution_count": null,
   "metadata": {},
   "outputs": [],
   "source": []
  },
  {
   "cell_type": "code",
   "execution_count": 24,
   "metadata": {},
   "outputs": [],
   "source": [
    "import numpy as np\n",
    "import cv2\n",
    "\n",
    "cap = cv2.VideoCapture('week-2.mp4')\n",
    "\n",
    "while(True):\n",
    "    # Capture frame-by-frame\n",
    "    _, frame = cap.read()\n",
    "\n",
    "    # Display the resulting frame\n",
    "    cv2.imshow('frame', frame)\n",
    "    if cv2.waitKey(1) & 0xFF == ord('q'):\n",
    "        break\n",
    "\n",
    "# When everything done, release the capture\n",
    "cap.release()\n",
    "cv2.destroyAllWindows()"
   ]
  },
  {
   "cell_type": "code",
   "execution_count": null,
   "metadata": {},
   "outputs": [],
   "source": []
  },
  {
   "cell_type": "code",
   "execution_count": null,
   "metadata": {},
   "outputs": [],
   "source": []
  },
  {
   "cell_type": "code",
   "execution_count": 26,
   "metadata": {},
   "outputs": [],
   "source": [
    "import numpy as np\n",
    "import cv2\n",
    "\n",
    "cap = cv2.VideoCapture(0)\n",
    "\n",
    "# Define the codec and create VideoWriter object\n",
    "fourcc = cv2.VideoWriter_fourcc(*'XVID')\n",
    "out = cv2.VideoWriter('output.avi',fourcc, 20.0, (640,480))\n",
    "\n",
    "while(cap.isOpened()):\n",
    "    ret, frame = cap.read()\n",
    "    if ret==True:\n",
    "        # write the frame\n",
    "        out.write(frame)\n",
    "\n",
    "        cv2.imshow('frame',frame)\n",
    "        if cv2.waitKey(1) & 0xFF == ord('q'):\n",
    "            break\n",
    "    else:\n",
    "        break\n",
    "\n",
    "# Release everything if job is finished\n",
    "cap.release()\n",
    "out.release()\n",
    "cv2.destroyAllWindows()"
   ]
  },
  {
   "cell_type": "code",
   "execution_count": null,
   "metadata": {},
   "outputs": [],
   "source": []
  },
  {
   "cell_type": "code",
   "execution_count": null,
   "metadata": {},
   "outputs": [],
   "source": []
  },
  {
   "cell_type": "code",
   "execution_count": 3,
   "metadata": {},
   "outputs": [],
   "source": [
    "import numpy as np\n",
    "import cv2\n",
    "\n",
    "\n",
    "bg = cv2.imread('background.png')\n",
    "bg = cv2.resize(bg, (640, 480))\n",
    "\n",
    "cap = cv2.VideoCapture(0)\n",
    "\n",
    "# get background\n",
    "_, init_frame = cap.read()\n",
    "cv2.imshow('Window-Title', init_frame)\n",
    "cv2.waitKey(0)\n",
    "\n",
    "_, first_frame = cap.read()\n",
    "first_frame = cv2.GaussianBlur(first_frame, (5, 5), 0)\n",
    "cv2.imshow('Window-Title', first_frame)\n",
    "cv2.waitKey(0)\n",
    "\n",
    "# get live video\n",
    "while(True):\n",
    "    # Capture frame-by-frame\n",
    "    _, frame = cap.read()\n",
    "    frame = cv2.GaussianBlur(frame, (5, 5), 0)\n",
    "    \n",
    "    difference = cv2.absdiff(first_frame, frame)\n",
    "    difference = np.sum(difference, axis=2) / 3.0\n",
    "    _, difference = cv2.threshold(difference, 25, 255, cv2.THRESH_BINARY)\n",
    "    \n",
    "    diff3 = np.stack([difference, difference, difference], axis=2)\n",
    "    output = np.where(diff3==0, bg, frame)\n",
    "    \n",
    "    cv2.imshow(\"First frame\", first_frame)\n",
    "    cv2.imshow(\"Frame\", frame)\n",
    "    cv2.imshow(\"difference\", difference)\n",
    "    cv2.imshow(\"output\", output)\n",
    "\n",
    "    key = cv2.waitKey(30)\n",
    "    if key == 27:\n",
    "        break\n",
    "\n",
    "cv2.waitKey(0)\n",
    "cv2.destroyAllWindows()\n",
    "cap.release()"
   ]
  },
  {
   "cell_type": "code",
   "execution_count": null,
   "metadata": {},
   "outputs": [],
   "source": []
  }
 ],
 "metadata": {
  "kernelspec": {
   "display_name": "Python 3",
   "language": "python",
   "name": "python3"
  },
  "language_info": {
   "codemirror_mode": {
    "name": "ipython",
    "version": 3
   },
   "file_extension": ".py",
   "mimetype": "text/x-python",
   "name": "python",
   "nbconvert_exporter": "python",
   "pygments_lexer": "ipython3",
   "version": "3.7.3"
  }
 },
 "nbformat": 4,
 "nbformat_minor": 2
}
