{
 "cells": [
  {
   "cell_type": "code",
   "execution_count": 5,
   "metadata": {},
   "outputs": [],
   "source": [
    "from __future__ import division, print_function, unicode_literals\n",
    "import numpy as np \n",
    "import matplotlib.pyplot as plt"
   ]
  },
  {
   "cell_type": "code",
   "execution_count": 6,
   "metadata": {},
   "outputs": [],
   "source": [
    "X = np.array([ [1, 100, 7, 42, 0], [1, 150, 7, 62, 0], [1, 118, 6, 40, 0], [1, 123, 6, 54, 0], [1, 112, 6, 42, 0],\n",
    "        [1, 99, 6, 56, 0], [1, 124, 7, 51, 1], [1, 150, 6, 32, 0], [1, 342, 10, 42, 1], [1, 300, 9, 14, 1],\n",
    "        [1, 123, 6, 32, 0], [1, 155, 6, 30, 0], [1, 98, 5, 30, 0], [1, 112, 6, 32, 0], [1, 102, 5, 46, 1],\n",
    "        [1, 150, 6, 32, 0], [1, 166, 8, 50, 0], [1, 149, 7, 22, 1], [1, 138, 6, 17, 0], [1, 150, 7, 23, 0]]).T\n",
    "y = np.array([[259, 295, 279, 259, 299, 299, 309, 289, 849, 829, 359, 315, 310, 309, 300, 289, 369, 419, 405, 439]]).T"
   ]
  },
  {
   "cell_type": "code",
   "execution_count": 13,
   "metadata": {},
   "outputs": [
    {
     "name": "stdout",
     "output_type": "stream",
     "text": [
      "[[  1 100   7  42   0]\n",
      " [  1 150   7  62   0]\n",
      " [  1 118   6  40   0]\n",
      " [  1 123   6  54   0]\n",
      " [  1 112   6  42   0]\n",
      " [  1  99   6  56   0]\n",
      " [  1 124   7  51   1]\n",
      " [  1 150   6  32   0]\n",
      " [  1 342  10  42   1]\n",
      " [  1 300   9  14   1]\n",
      " [  1 123   6  32   0]\n",
      " [  1 155   6  30   0]\n",
      " [  1  98   5  30   0]\n",
      " [  1 112   6  32   0]\n",
      " [  1 102   5  46   1]\n",
      " [  1 150   6  32   0]\n",
      " [  1 166   8  50   0]\n",
      " [  1 149   7  22   1]\n",
      " [  1 138   6  17   0]\n",
      " [  1 150   7  23   0]]\n",
      "w =  [[46.57608884]\n",
      " [ 1.80877941]\n",
      " [20.51647902]\n",
      " [-2.38581452]\n",
      " [54.29644678]]\n"
     ]
    }
   ],
   "source": [
    "one = np.ones((X.shape[0],1))\n",
    "Xbar = X.T\n",
    "print(Xbar)\n",
    "A = np.dot(Xbar.T, Xbar)\n",
    "b = np.dot(Xbar.T, y)\n",
    "w = np.dot(np.linalg.pinv(A), b)\n",
    "print('w = ', w)"
   ]
  },
  {
   "cell_type": "code",
   "execution_count": 16,
   "metadata": {},
   "outputs": [
    {
     "name": "stdout",
     "output_type": "stream",
     "text": [
      "Nhap dien tich (m2):  15\n",
      "Nhap vao so phong:  2\n",
      "Tuoi can nha:  2\n",
      "So nha tam:  2\n",
      "Predict home price: 738.52\n"
     ]
    }
   ],
   "source": [
    "s1=float(input(\"Nhap dien tich (m2):  \"))\n",
    "s2=float(input(\"Nhap vao so phong:  \"))\n",
    "s3=float(input(\"Tuoi can nha:  \"))\n",
    "s4=float(input(\"So nha tam:  \"))\n",
    "money=w[0][0]*s1+w[1][0]*s2+w[2][0]*s3+w[3][0]*s4\n",
    "print(\"Predict home price: %.2f\" %(money))"
   ]
  },
  {
   "cell_type": "code",
   "execution_count": null,
   "metadata": {},
   "outputs": [],
   "source": []
  }
 ],
 "metadata": {
  "kernelspec": {
   "display_name": "Python 3",
   "language": "python",
   "name": "python3"
  },
  "language_info": {
   "codemirror_mode": {
    "name": "ipython",
    "version": 3
   },
   "file_extension": ".py",
   "mimetype": "text/x-python",
   "name": "python",
   "nbconvert_exporter": "python",
   "pygments_lexer": "ipython3",
   "version": "3.8.5"
  }
 },
 "nbformat": 4,
 "nbformat_minor": 4
}
